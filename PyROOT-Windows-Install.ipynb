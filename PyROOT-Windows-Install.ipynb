{
 "cells": [
  {
   "cell_type": "markdown",
   "id": "69f5f0eb-9a70-43f2-a222-073808363b2c",
   "metadata": {},
   "source": [
    "# Setting Up ROOT and PyROOT on Windows\n"
   ]
  },
  {
   "cell_type": "markdown",
   "id": "5e9f3a0d-6950-4e78-be63-d6a77a1f5d79",
   "metadata": {},
   "source": [
    "## 1. Prerequisites\n",
    "\n",
    "Before starting, make sure you have:\n",
    "\n",
    "- Python (via Miniconda or Anaconda)\n",
    "- Visual Studio with C++ Desktop Development tools\n",
    "- CMake (optional if using precompiled ROOT)\n",
    "- Downloaded the pre-compiled ROOT binaries (from [https://root.cern/install](https://root.cern/install))\n"
   ]
  },
  {
   "cell_type": "markdown",
   "id": "1f078bf8-0a01-46c3-b1e3-9340b9942464",
   "metadata": {},
   "source": [
    "## 2. One-Time Setup\n",
    "\n",
    "In this step, we:\n",
    "\n",
    "- Add Conda to the Windows PATH (optional)\n",
    "- Initialize Conda in CMD\n",
    "- Check which Python version ROOT expects\n",
    "- Create a compatible Conda environment\n"
   ]
  },
  {
   "cell_type": "code",
   "execution_count": 17,
   "id": "3a99ae90-5d68-4abb-b069-b051fecb9a41",
   "metadata": {},
   "outputs": [],
   "source": [
    "# Only run this ONCE to add Conda to PATH — not needed if already added by installer\n",
    "#!setx PATH \"%USERPROFILE%\\miniconda3;%USERPROFILE%\\miniconda3\\Scripts;%USERPROFILE%\\miniconda3\\Library\\bin;%PATH%\"\n"
   ]
  },
  {
   "cell_type": "code",
   "execution_count": 2,
   "id": "beed2efa-f7f5-477e-9f9d-504497055cf9",
   "metadata": {},
   "outputs": [],
   "source": [
    "# One-time Conda initialization for CMD\n",
    "#!conda init cmd.exe  #uncomment"
   ]
  },
  {
   "cell_type": "markdown",
   "id": "b3891e2a-4823-4e3f-ac59-dd5732f366b8",
   "metadata": {},
   "source": [
    "Check version compatibility:"
   ]
  },
  {
   "cell_type": "code",
   "execution_count": null,
   "id": "369569be-3e0b-4892-8b48-fcb1bc7759ee",
   "metadata": {},
   "outputs": [],
   "source": [
    "%%cmd\n",
    "root-config --python-version\n",
    "python --version"
   ]
  },
  {
   "cell_type": "markdown",
   "id": "9c0c6595-ce94-4bbd-99f4-711c788575f0",
   "metadata": {},
   "source": [
    "Create environment (if versions mismatch):"
   ]
  },
  {
   "cell_type": "code",
   "execution_count": 16,
   "id": "97caee90-83fc-49b9-8c5c-563cb153bb9b",
   "metadata": {},
   "outputs": [],
   "source": [
    "# Create the Conda environment with compatible Python version (adjust version as needed)\n",
    "#!conda create -n root_env python=3.11.2 -y\n"
   ]
  },
  {
   "cell_type": "markdown",
   "id": "8aebdf4d-9236-4b4f-9005-d0a066fa15b5",
   "metadata": {},
   "source": [
    "> **Important:** You cannot activate Conda environments directly from Jupyter cells.  \n",
    "> Instead, run this step in a **Command Prompt** manually:\n",
    "\n",
    "```cmd\n",
    "conda activate root_env\n"
   ]
  },
  {
   "cell_type": "markdown",
   "id": "ae5c6302-44cd-4ae9-831e-196843e9dde5",
   "metadata": {},
   "source": [
    "---\n",
    "## 3. Daily Setup (Every time you want to use ROOT)\n",
    "\n",
    "In this step, we:\n",
    "- Activate the environment\n",
    "- Initialize ROOT\n",
    "- Test PyROOT\n"
   ]
  },
  {
   "cell_type": "markdown",
   "id": "a3d0bf64-4e9e-4501-a471-86d2c9479134",
   "metadata": {},
   "source": [
    "> Run these in a **Command Prompt** every day:\n",
    "\n",
    "```cmd\n",
    "conda activate root_env\n",
    "call \"<path_to_your_root_installation>\\bin\\thisroot.bat\"\n",
    "python -c \"import ROOT; print('ROOT', ROOT.__version__)\"\n"
   ]
  },
  {
   "cell_type": "markdown",
   "id": "be55e9ca-5ed1-4d5b-b646-f0b9b8cd8ef8",
   "metadata": {},
   "source": [
    "## 4. Using ROOT in Jupyter or Python\n",
    "\n",
    "After setup, you can use PyROOT directly in notebooks or scripts:"
   ]
  },
  {
   "cell_type": "code",
   "execution_count": 1,
   "id": "5a8dd081-3c84-4241-bdfd-64a9451f0948",
   "metadata": {},
   "outputs": [
    {
     "name": "stdout",
     "output_type": "stream",
     "text": [
      "ROOT version: 6.32.10\n"
     ]
    }
   ],
   "source": [
    "import ROOT\n",
    "\n",
    "# Print ROOT version\n",
    "print(\"ROOT version:\", ROOT.__version__)\n",
    "\n",
    "# Draw a histogram (basic example)\n",
    "h = ROOT.TH1F(\"h\", \"My Histogram\", 100, -4, 4)\n",
    "for i in range(1000):\n",
    "    h.Fill(ROOT.gRandom.Gaus())\n",
    "h.Draw()\n"
   ]
  },
  {
   "cell_type": "markdown",
   "id": "b44a6aad-9acd-47b2-85ee-9b0e5cf81a62",
   "metadata": {},
   "source": [
    "## 5. Optional: Create a `.bat` File for Daily Setup\n",
    "\n",
    "Create a file named `start_root_env.bat` with the following contents:\n",
    "\n",
    "```bat\n",
    "@echo off\n",
    "call conda activate root_env\n",
    "call \"<path_to_your_root_installation>\\bin\\thisroot.bat\"\n",
    "cmd\n"
   ]
  },
  {
   "cell_type": "markdown",
   "id": "d2ecafdb-011a-4cef-8179-714e8db261cd",
   "metadata": {},
   "source": [
    "## Troubleshooting (Windows-Specific)\n",
    "\n",
    "| Error | Solution |\n",
    "|-------|----------|\n",
    "| `'conda' not recognized` | Re-run `conda init cmd.exe` as admin |\n",
    "| `DLL load failed` | Run `thisroot.bat` before Python |\n",
    "| Version mismatch | `conda create -n root_env python=3.11.2` |"
   ]
  },
  {
   "cell_type": "code",
   "execution_count": null,
   "id": "fea4da57-9193-4bc8-8edc-a1e764603520",
   "metadata": {},
   "outputs": [],
   "source": []
  }
 ],
 "metadata": {
  "kernelspec": {
   "display_name": "Python 3 (ipykernel)",
   "language": "python",
   "name": "python3"
  },
  "language_info": {
   "codemirror_mode": {
    "name": "ipython",
    "version": 3
   },
   "file_extension": ".py",
   "mimetype": "text/x-python",
   "name": "python",
   "nbconvert_exporter": "python",
   "pygments_lexer": "ipython3",
   "version": "3.12.9"
  }
 },
 "nbformat": 4,
 "nbformat_minor": 5
}
